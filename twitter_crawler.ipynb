{
 "cells": [
  {
   "cell_type": "code",
   "execution_count": null,
   "metadata": {},
   "outputs": [],
   "source": [
    "# Imports\n",
    "import GetOldTweets3 as got\n",
    "import pandas as pd\n",
    "import numpy as np\n",
    "import matplotlib.pyplot as plt\n",
    "import nltk\n",
    "nltk.download('stopwords')\n",
    "from nltk.stem.snowball import SnowballStemmer\n",
    "from unidecode import unidecode #retirar acentos\n",
    "import string\n",
    "string.punctuation\n",
    "from wordcloud import WordCloud,ImageColorGenerator\n",
    "from sklearn.feature_extraction.text import CountVectorizer, TfidfVectorizer, TfidfTransformer\n",
    "import regex as re"
   ]
  },
  {
   "cell_type": "code",
   "execution_count": null,
   "metadata": {},
   "outputs": [],
   "source": [
    "df_keywords = pd.read_csv('keywords_fakenews_covid.csv', sep=';', encoding='ISO-8859-1', error_bad_lines=False)\n",
    "df_keywords.head(12)"
   ]
  },
  {
   "cell_type": "code",
   "execution_count": null,
   "metadata": {},
   "outputs": [],
   "source": [
    "def search_tweets(queries, subject, top_only, start_date, end_date, max_tweets):\n",
    "    \n",
    "    tweets_df = pd.DataFrame(columns = ['user', 'text','date', 'favorites', 'retweets', 'mentions', 'hashTags','id', 'subject'])\n",
    "    \n",
    "    for i, query in enumerate(queries):\n",
    "        tweetCriteria = got.manager.TweetCriteria().setQuerySearch(query)\\\n",
    "                              .setTopTweets(top_only)\\\n",
    "                              .setSince(start_date)\\\n",
    "                              .setUntil(end_date)\\\n",
    "                              .setMaxTweets(max_tweets)\\\n",
    "                              .setLang('pt')\n",
    "\n",
    "        # Creation of list that contains all tweets\n",
    "        tweet = got.manager.TweetManager.getTweets(tweetCriteria)\n",
    "\n",
    "        # Creating list of chosen tweet data\n",
    "        text_tweets = [[tw.username,\n",
    "                    tw.text,\n",
    "                    tw.date,\n",
    "                    tw.retweets,\n",
    "                    tw.favorites,\n",
    "                    tw.mentions,\n",
    "                    tw.hashtags,\n",
    "                    tw.id] for tw in tweet]\n",
    "\n",
    "        # creating dataframe, assigning column names to list of\n",
    "        tweets = pd.DataFrame(text_tweets, \n",
    "                                columns = ['user', 'text','date', 'favorites', 'retweets', 'mentions', 'hashTags','id'])\n",
    "        tweets['subject'] = subject[i]\n",
    "        \n",
    "        tweets_df = tweets_df.append(tweets)\n",
    "            \n",
    "    return tweets_df"
   ]
  },
  {
   "cell_type": "markdown",
   "metadata": {},
   "source": [
    "Criando a query que será pesquisada pelo crawler:"
   ]
  },
  {
   "cell_type": "code",
   "execution_count": null,
   "metadata": {},
   "outputs": [],
   "source": [
    "df_keywords.keywords"
   ]
  },
  {
   "cell_type": "code",
   "execution_count": null,
   "metadata": {},
   "outputs": [],
   "source": [
    "search = df_keywords.keywords.apply(lambda x: x + ' AND (Covid OR Corona OR covid OR covid19 OR corona OR coronavírus OR coronavirus)')\n",
    "\n",
    "search_query = pd.DataFrame({'keywords': search[5:7].values, 'subject': df_keywords['assunto_fake'][5:7].values})\n",
    "search_query"
   ]
  },
  {
   "cell_type": "code",
   "execution_count": null,
   "metadata": {},
   "outputs": [],
   "source": [
    "search_query.keywords"
   ]
  },
  {
   "cell_type": "markdown",
   "metadata": {},
   "source": [
    "Capturando os tweets com as palavras chaves:"
   ]
  },
  {
   "cell_type": "code",
   "execution_count": null,
   "metadata": {
    "scrolled": false
   },
   "outputs": [],
   "source": [
    "pool_tweets = search_tweets(search_query.keywords, search_query.subject,\n",
    "                                        top_only = True,\n",
    "                                        start_date = \"2020-02-01\", \n",
    "                                        end_date = \"2020-09-09\",\n",
    "                                        max_tweets = 100000)"
   ]
  },
  {
   "cell_type": "code",
   "execution_count": null,
   "metadata": {
    "scrolled": true
   },
   "outputs": [],
   "source": [
    "pool_tweets.subject.value_counts()#[200:300].text.tolist()"
   ]
  },
  {
   "cell_type": "markdown",
   "metadata": {},
   "source": [
    "Apagando tweets duplicados:"
   ]
  },
  {
   "cell_type": "code",
   "execution_count": null,
   "metadata": {},
   "outputs": [],
   "source": [
    "pool_tweets = pool_tweets.drop_duplicates(subset='id', keep='first')"
   ]
  },
  {
   "cell_type": "markdown",
   "metadata": {},
   "source": [
    "Salvando em csv:"
   ]
  },
  {
   "cell_type": "code",
   "execution_count": null,
   "metadata": {},
   "outputs": [],
   "source": [
    "pool_tweets.to_csv('tweets_Topics6-7.csv', header=True, encoding='utf -8-sig')"
   ]
  }
 ],
 "metadata": {
  "kernelspec": {
   "display_name": "Python 3",
   "language": "python",
   "name": "python3"
  },
  "language_info": {
   "codemirror_mode": {
    "name": "ipython",
    "version": 3
   },
   "file_extension": ".py",
   "mimetype": "text/x-python",
   "name": "python",
   "nbconvert_exporter": "python",
   "pygments_lexer": "ipython3",
   "version": "3.7.6"
  }
 },
 "nbformat": 4,
 "nbformat_minor": 4
}
